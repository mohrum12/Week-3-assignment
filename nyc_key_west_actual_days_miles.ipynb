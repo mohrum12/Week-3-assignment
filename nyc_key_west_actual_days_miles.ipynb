{
 "cells": [
  {
   "cell_type": "markdown",
   "id": "0896fbe4",
   "metadata": {},
   "source": [
    "# NYC → Key West: Actual Days & Daily Miles from Odometer\n",
    "\n",
    "This notebook takes the **end-of-day odometer (cumulative miles)** and computes the **daily miles**\n",
    "and the **actual number of days** it took. It also aligns the final total to **1,664.9 mi** and can\n",
    "estimate hours/day if the total riding time (~145 hr) is provided.\n",
    "\n",
    "> Example: entries `55, 120` mean **Day 1 = 55 mi**, **Day 2 = 65 mi**.\n"
   ]
  },
  {
   "cell_type": "markdown",
   "id": "9b1dd208",
   "metadata": {},
   "source": [
    "## 1) Setup\n"
   ]
  },
  {
   "cell_type": "code",
   "execution_count": 11,
   "id": "24e4fec2",
   "metadata": {},
   "outputs": [],
   "source": [
    "import math\n",
    "import pandas as pd\n",
    "import matplotlib.pyplot as plt\n",
    "pd.set_option(\"display.precision\", 2)"
   ]
  },
  {
   "cell_type": "markdown",
   "id": "9bd7b0c7",
   "metadata": {},
   "source": [
    "## 2)Cumulative odometer readings"
   ]
  },
  {
   "cell_type": "code",
   "execution_count": 12,
   "id": "6962aa45",
   "metadata": {},
   "outputs": [],
   "source": [
    "# Cumulative miles at the end of each day\n",
    "cumulative = [55, 120, 190, 260, 330, 405, 485, 560, 640, 725,\n",
    "              795, 865, 930, 1000, 1065, 1130, 1195, 1260, 1330, 1400,\n",
    "              1470, 1535, 1595]\n",
    "\n",
    "EXPECTED_TOTAL = 1664.9  # miles NYC → Key West\n",
    "TOTAL_HOURS    = 145     # optional total riding hours (for estimated hours/day)"
   ]
  },
  {
   "cell_type": "markdown",
   "id": "44c16165",
   "metadata": {},
   "source": [
    "## 3) Build Series, validate, and align to target total (1,664.9 mi)\n",
    "- Make the Series indexed by **Day** (1..N)\n",
    "- Ensure cumulative is non-decreasing\n",
    "- If your last entry isn't exactly 1,664.9, we **adjust** the last day (or **append** a final day) to end exactly at the target total"
   ]
  },
  {
   "cell_type": "code",
   "execution_count": 13,
   "id": "3decbd71",
   "metadata": {},
   "outputs": [
    {
     "data": {
      "text/plain": [
       "'Added Day 24 to reach 1664.9 mi.'"
      ]
     },
     "execution_count": 13,
     "metadata": {},
     "output_type": "execute_result"
    }
   ],
   "source": [
    "cum = pd.Series(cumulative, name=\"CumulativeMiles\")\n",
    "cum.index = pd.RangeIndex(start=1, stop=len(cum)+1, name=\"Day\")\n",
    "\n",
    "# Validate non-decreasing (allow equal for rest days)\n",
    "if not cum.is_monotonic_increasing:\n",
    "    raise ValueError(\"Cumulative miles must be non-decreasing (rest days can repeat).\")\n",
    "\n",
    "# Align final cumulative to EXPECTED_TOTAL exactly\n",
    "current_total = float(cum.iloc[-1])\n",
    "tol = 1e-6\n",
    "if abs(current_total - EXPECTED_TOTAL) > tol:\n",
    "    if current_total < EXPECTED_TOTAL:\n",
    "        # Append a final day to reach the target\n",
    "        cum.loc[cum.index[-1] + 1] = EXPECTED_TOTAL\n",
    "        note = f\"Added Day {cum.index[-1]} to reach {EXPECTED_TOTAL} mi.\"\n",
    "    else:\n",
    "        # Trim down the last day to end exactly at the target\n",
    "        cum.iloc[-1] = EXPECTED_TOTAL\n",
    "        note = f\"Adjusted last day to end at {EXPECTED_TOTAL} mi (was {current_total}).\"\n",
    "else:\n",
    "    note = \"Cumulative already equals 1,664.9 mi.\"\n",
    "\n",
    "note"
   ]
  },
  {
   "cell_type": "markdown",
   "id": "87ece4f3",
   "metadata": {},
   "source": [
    "## 4) Compute daily miles and (optionally) hours per day\n",
    "- `DailyMiles = diff(cumulative)`, with Day 1 equal to the first cumulative value\n",
    "- If `TOTAL_HOURS` is provided, estimate `EstHours = DailyMiles / avg_mph`, where `avg_mph = EXPECTED_TOTAL / TOTAL_HOURS`"
   ]
  },
  {
   "cell_type": "code",
   "execution_count": 14,
   "id": "748ea4fc",
   "metadata": {},
   "outputs": [
    {
     "data": {
      "text/html": [
       "<div>\n",
       "<style scoped>\n",
       "    .dataframe tbody tr th:only-of-type {\n",
       "        vertical-align: middle;\n",
       "    }\n",
       "\n",
       "    .dataframe tbody tr th {\n",
       "        vertical-align: top;\n",
       "    }\n",
       "\n",
       "    .dataframe thead th {\n",
       "        text-align: right;\n",
       "    }\n",
       "</style>\n",
       "<table border=\"1\" class=\"dataframe\">\n",
       "  <thead>\n",
       "    <tr style=\"text-align: right;\">\n",
       "      <th></th>\n",
       "      <th>CumulativeMiles</th>\n",
       "      <th>DailyMiles</th>\n",
       "      <th>EstHours</th>\n",
       "      <th>CumulativeHours</th>\n",
       "    </tr>\n",
       "    <tr>\n",
       "      <th>Day</th>\n",
       "      <th></th>\n",
       "      <th></th>\n",
       "      <th></th>\n",
       "      <th></th>\n",
       "    </tr>\n",
       "  </thead>\n",
       "  <tbody>\n",
       "    <tr>\n",
       "      <th>1</th>\n",
       "      <td>55.0</td>\n",
       "      <td>55.0</td>\n",
       "      <td>4.79</td>\n",
       "      <td>4.79</td>\n",
       "    </tr>\n",
       "    <tr>\n",
       "      <th>2</th>\n",
       "      <td>120.0</td>\n",
       "      <td>65.0</td>\n",
       "      <td>5.66</td>\n",
       "      <td>10.45</td>\n",
       "    </tr>\n",
       "    <tr>\n",
       "      <th>3</th>\n",
       "      <td>190.0</td>\n",
       "      <td>70.0</td>\n",
       "      <td>6.10</td>\n",
       "      <td>16.55</td>\n",
       "    </tr>\n",
       "    <tr>\n",
       "      <th>4</th>\n",
       "      <td>260.0</td>\n",
       "      <td>70.0</td>\n",
       "      <td>6.10</td>\n",
       "      <td>22.65</td>\n",
       "    </tr>\n",
       "    <tr>\n",
       "      <th>5</th>\n",
       "      <td>330.0</td>\n",
       "      <td>70.0</td>\n",
       "      <td>6.10</td>\n",
       "      <td>28.75</td>\n",
       "    </tr>\n",
       "    <tr>\n",
       "      <th>6</th>\n",
       "      <td>405.0</td>\n",
       "      <td>75.0</td>\n",
       "      <td>6.53</td>\n",
       "      <td>35.28</td>\n",
       "    </tr>\n",
       "    <tr>\n",
       "      <th>7</th>\n",
       "      <td>485.0</td>\n",
       "      <td>80.0</td>\n",
       "      <td>6.97</td>\n",
       "      <td>42.25</td>\n",
       "    </tr>\n",
       "    <tr>\n",
       "      <th>8</th>\n",
       "      <td>560.0</td>\n",
       "      <td>75.0</td>\n",
       "      <td>6.53</td>\n",
       "      <td>48.78</td>\n",
       "    </tr>\n",
       "    <tr>\n",
       "      <th>9</th>\n",
       "      <td>640.0</td>\n",
       "      <td>80.0</td>\n",
       "      <td>6.97</td>\n",
       "      <td>55.75</td>\n",
       "    </tr>\n",
       "    <tr>\n",
       "      <th>10</th>\n",
       "      <td>725.0</td>\n",
       "      <td>85.0</td>\n",
       "      <td>7.40</td>\n",
       "      <td>63.15</td>\n",
       "    </tr>\n",
       "    <tr>\n",
       "      <th>11</th>\n",
       "      <td>795.0</td>\n",
       "      <td>70.0</td>\n",
       "      <td>6.10</td>\n",
       "      <td>69.25</td>\n",
       "    </tr>\n",
       "    <tr>\n",
       "      <th>12</th>\n",
       "      <td>865.0</td>\n",
       "      <td>70.0</td>\n",
       "      <td>6.10</td>\n",
       "      <td>75.35</td>\n",
       "    </tr>\n",
       "    <tr>\n",
       "      <th>13</th>\n",
       "      <td>930.0</td>\n",
       "      <td>65.0</td>\n",
       "      <td>5.66</td>\n",
       "      <td>81.01</td>\n",
       "    </tr>\n",
       "    <tr>\n",
       "      <th>14</th>\n",
       "      <td>1000.0</td>\n",
       "      <td>70.0</td>\n",
       "      <td>6.10</td>\n",
       "      <td>87.11</td>\n",
       "    </tr>\n",
       "    <tr>\n",
       "      <th>15</th>\n",
       "      <td>1065.0</td>\n",
       "      <td>65.0</td>\n",
       "      <td>5.66</td>\n",
       "      <td>92.77</td>\n",
       "    </tr>\n",
       "    <tr>\n",
       "      <th>16</th>\n",
       "      <td>1130.0</td>\n",
       "      <td>65.0</td>\n",
       "      <td>5.66</td>\n",
       "      <td>98.43</td>\n",
       "    </tr>\n",
       "    <tr>\n",
       "      <th>17</th>\n",
       "      <td>1195.0</td>\n",
       "      <td>65.0</td>\n",
       "      <td>5.66</td>\n",
       "      <td>104.09</td>\n",
       "    </tr>\n",
       "    <tr>\n",
       "      <th>18</th>\n",
       "      <td>1260.0</td>\n",
       "      <td>65.0</td>\n",
       "      <td>5.66</td>\n",
       "      <td>109.75</td>\n",
       "    </tr>\n",
       "    <tr>\n",
       "      <th>19</th>\n",
       "      <td>1330.0</td>\n",
       "      <td>70.0</td>\n",
       "      <td>6.10</td>\n",
       "      <td>115.85</td>\n",
       "    </tr>\n",
       "    <tr>\n",
       "      <th>20</th>\n",
       "      <td>1400.0</td>\n",
       "      <td>70.0</td>\n",
       "      <td>6.10</td>\n",
       "      <td>121.95</td>\n",
       "    </tr>\n",
       "    <tr>\n",
       "      <th>21</th>\n",
       "      <td>1470.0</td>\n",
       "      <td>70.0</td>\n",
       "      <td>6.10</td>\n",
       "      <td>128.05</td>\n",
       "    </tr>\n",
       "    <tr>\n",
       "      <th>22</th>\n",
       "      <td>1535.0</td>\n",
       "      <td>65.0</td>\n",
       "      <td>5.66</td>\n",
       "      <td>133.71</td>\n",
       "    </tr>\n",
       "    <tr>\n",
       "      <th>23</th>\n",
       "      <td>1595.0</td>\n",
       "      <td>60.0</td>\n",
       "      <td>5.23</td>\n",
       "      <td>138.94</td>\n",
       "    </tr>\n",
       "    <tr>\n",
       "      <th>24</th>\n",
       "      <td>1664.9</td>\n",
       "      <td>69.9</td>\n",
       "      <td>6.09</td>\n",
       "      <td>145.03</td>\n",
       "    </tr>\n",
       "  </tbody>\n",
       "</table>\n",
       "</div>"
      ],
      "text/plain": [
       "     CumulativeMiles  DailyMiles  EstHours  CumulativeHours\n",
       "Day                                                        \n",
       "1               55.0        55.0      4.79             4.79\n",
       "2              120.0        65.0      5.66            10.45\n",
       "3              190.0        70.0      6.10            16.55\n",
       "4              260.0        70.0      6.10            22.65\n",
       "5              330.0        70.0      6.10            28.75\n",
       "6              405.0        75.0      6.53            35.28\n",
       "7              485.0        80.0      6.97            42.25\n",
       "8              560.0        75.0      6.53            48.78\n",
       "9              640.0        80.0      6.97            55.75\n",
       "10             725.0        85.0      7.40            63.15\n",
       "11             795.0        70.0      6.10            69.25\n",
       "12             865.0        70.0      6.10            75.35\n",
       "13             930.0        65.0      5.66            81.01\n",
       "14            1000.0        70.0      6.10            87.11\n",
       "15            1065.0        65.0      5.66            92.77\n",
       "16            1130.0        65.0      5.66            98.43\n",
       "17            1195.0        65.0      5.66           104.09\n",
       "18            1260.0        65.0      5.66           109.75\n",
       "19            1330.0        70.0      6.10           115.85\n",
       "20            1400.0        70.0      6.10           121.95\n",
       "21            1470.0        70.0      6.10           128.05\n",
       "22            1535.0        65.0      5.66           133.71\n",
       "23            1595.0        60.0      5.23           138.94\n",
       "24            1664.9        69.9      6.09           145.03"
      ]
     },
     "execution_count": 14,
     "metadata": {},
     "output_type": "execute_result"
    }
   ],
   "source": [
    "daily = cum.diff().fillna(cum.iloc[0]).rename(\"DailyMiles\")\n",
    "\n",
    "# Estimated hours per day based on average trip speed\n",
    "avg_mph = EXPECTED_TOTAL / TOTAL_HOURS if TOTAL_HOURS else None\n",
    "\n",
    "df = pd.concat([cum, daily], axis=1)\n",
    "if avg_mph:\n",
    "    df[\"EstHours\"] = (df[\"DailyMiles\"] / avg_mph).round(2)\n",
    "    df[\"CumulativeHours\"] = df[\"EstHours\"].cumsum().round(2)\n",
    "\n",
    "# Round miles for display\n",
    "out = df.copy()\n",
    "out[\"DailyMiles\"] = out[\"DailyMiles\"].round(2)\n",
    "out[\"CumulativeMiles\"] = out[\"CumulativeMiles\"].round(1)\n",
    "out"
   ]
  },
  {
   "cell_type": "markdown",
   "id": "a2fdca3e",
   "metadata": {},
   "source": [
    "## 5) Summary\n",
    "We print the **actual number of days** and key stats."
   ]
  },
  {
   "cell_type": "code",
   "execution_count": 15,
   "id": "a125cd77",
   "metadata": {},
   "outputs": [
    {
     "name": "stdout",
     "output_type": "stream",
     "text": [
      "It took 24 days to ride 1664.9 miles from NYC to Key West.\n",
      "Average miles/day: 69.37\n",
      "Biggest day: Day 10 with 85.00 miles\n",
      "Average speed (trip-level): 11.48 mph → target hours: 145 hr\n",
      "Estimated total hours from daily breakdown: 145.03 hr\n"
     ]
    }
   ],
   "source": [
    "days = int(len(df))\n",
    "total_miles = float(df[\"CumulativeMiles\"].iloc[-1])\n",
    "avg_daily = df[\"DailyMiles\"].mean()\n",
    "biggest_day_n = int(df[\"DailyMiles\"].idxmax())\n",
    "biggest_day_m = float(df[\"DailyMiles\"].max())\n",
    "\n",
    "print(f\"It took {days} days to ride {total_miles:.1f} miles from NYC to Key West.\")\n",
    "print(f\"Average miles/day: {avg_daily:.2f}\")\n",
    "print(f\"Biggest day: Day {biggest_day_n} with {biggest_day_m:.2f} miles\")\n",
    "if avg_mph:\n",
    "    print(f\"Average speed (trip-level): {avg_mph:.2f} mph → target hours: {TOTAL_HOURS} hr\")\n",
    "    print(f\"Estimated total hours from daily breakdown: {df['EstHours'].sum():.2f} hr\")"
   ]
  },
  {
   "cell_type": "markdown",
   "id": "bf83f603",
   "metadata": {},
   "source": [
    "## 6) Visualize\n",
    "Separate plots for daily miles and cumulative miles (single-plot charts, default colors)."
   ]
  },
  {
   "cell_type": "code",
   "execution_count": 16,
   "id": "3d065566",
   "metadata": {},
   "outputs": [
    {
     "data": {
      "image/png": "[encoded data removed]",
      "text/plain": [
       "<Figure size 900x400 with 1 Axes>"
      ]
     },
     "metadata": {},
     "output_type": "display_data"
    },
    {
     "data": {
      "image/png": "[encoded data removed]",
      "text/plain": [
       "<Figure size 900x400 with 1 Axes>"
      ]
     },
     "metadata": {},
     "output_type": "display_data"
    }
   ],
   "source": [
    "plt.figure(figsize=(9,4))\n",
    "df[\"DailyMiles\"].plot(kind=\"bar\")\n",
    "plt.title(\"Daily Miles: NYC → Key West\")\n",
    "plt.xlabel(\"Day\")\n",
    "plt.ylabel(\"Miles\")\n",
    "plt.tight_layout()\n",
    "plt.show()\n",
    "\n",
    "plt.figure(figsize=(9,4))\n",
    "df[\"CumulativeMiles\"].plot()\n",
    "plt.title(\"Cumulative Miles: NYC → Key West\")\n",
    "plt.xlabel(\"Day\")\n",
    "plt.ylabel(\"Miles (cumulative)\")\n",
    "plt.tight_layout()\n",
    "plt.show()"
   ]
  },
  {
   "cell_type": "code",
   "execution_count": null,
   "id": "6fbe8383-cbbb-42a4-b521-72e9e49f8889",
   "metadata": {},
   "outputs": [],
   "source": []
  }
 ],
 "metadata": {
  "kernelspec": {
   "display_name": "Python (pydev)",
   "language": "python",
   "name": "pydev"
  },
  "language_info": {
   "codemirror_mode": {
    "name": "ipython",
    "version": 3
   },
   "file_extension": ".py",
   "mimetype": "text/x-python",
   "name": "python",
   "nbconvert_exporter": "python",
   "pygments_lexer": "ipython3",
   "version": "3.7.3"
  }
 },
 "nbformat": 4,
 "nbformat_minor": 5
}
